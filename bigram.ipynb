{
 "cells": [
  {
   "cell_type": "code",
   "execution_count": 89,
   "metadata": {},
   "outputs": [
    {
     "name": "stdout",
     "output_type": "stream",
     "text": [
      "cuda\n"
     ]
    }
   ],
   "source": [
    "import torch\n",
    "import torch.nn as nn\n",
    "import torch.nn.functional as F\n",
    "import numpy as np\n",
    "import time\n",
    "device = 'cuda' if torch.cuda.is_available() else 'cpu'\n",
    "print(device)\n",
    "block_size = 8 # bigram model parameter\n",
    "batch_size = 4 # how we will stack the blocks\n",
    "max_iters = 10000\n",
    "learning_rate = 3e-4\n",
    "eval_iters = 250"
   ]
  },
  {
   "cell_type": "code",
   "execution_count": 9,
   "metadata": {},
   "outputs": [],
   "source": [
    "data_location = \"/mnt/a/LLM_exploration_DB/wizard_of_oz.txt\""
   ]
  },
  {
   "cell_type": "code",
   "execution_count": 78,
   "metadata": {},
   "outputs": [
    {
     "name": "stdout",
     "output_type": "stream",
     "text": [
      "['\\n', ' ', '!', '\"', '#', '$', '%', '&', \"'\", '(', ')', '*', ',', '-', '.', '/', '0', '1', '2', '3', '4', '5', '6', '7', '8', '9', ':', ';', '?', 'A', 'B', 'C', 'D', 'E', 'F', 'G', 'H', 'I', 'J', 'K', 'L', 'M', 'N', 'O', 'P', 'Q', 'R', 'S', 'T', 'U', 'V', 'W', 'X', 'Y', 'Z', '[', ']', '_', 'a', 'b', 'c', 'd', 'e', 'f', 'g', 'h', 'i', 'j', 'k', 'l', 'm', 'n', 'o', 'p', 'q', 'r', 's', 't', 'u', 'v', 'w', 'x', 'y', 'z', '—', '‘', '’', '“', '”', '•', '™', '\\ufeff']\n"
     ]
    }
   ],
   "source": [
    "with open(data_location, 'r', encoding='utf8') as f:\n",
    "    text = f.read()\n",
    "# create a set of all characters\n",
    "chars = sorted(set(text))\n",
    "print(chars)\n",
    "vocab_size = len(chars)"
   ]
  },
  {
   "cell_type": "code",
   "execution_count": 11,
   "metadata": {},
   "outputs": [],
   "source": [
    "string_to_int = { ch:i for i,ch in enumerate(chars) }\n",
    "int_to_string = { i:ch for i,ch in enumerate(chars) }\n",
    "encode = lambda s: [string_to_int[c] for c in s]\n",
    "decode = lambda l: ''.join([int_to_string[i] for i in l])"
   ]
  },
  {
   "cell_type": "code",
   "execution_count": 12,
   "metadata": {},
   "outputs": [
    {
     "name": "stdout",
     "output_type": "stream",
     "text": [
      "hello\n"
     ]
    }
   ],
   "source": [
    "#encoded_hello = encode('hello')\n",
    "#decoded_hello = decode(encoded_hello)\n",
    "#print(decoded_hello)"
   ]
  },
  {
   "cell_type": "code",
   "execution_count": 13,
   "metadata": {},
   "outputs": [],
   "source": [
    "data = torch.tensor(encode(text), dtype=torch.long) # long sequence of integers"
   ]
  },
  {
   "cell_type": "code",
   "execution_count": 15,
   "metadata": {},
   "outputs": [],
   "source": [
    "n = int(0.8*len(data))\n",
    "train_data = data[:n]\n",
    "val_data = data[n:]"
   ]
  },
  {
   "cell_type": "code",
   "execution_count": 82,
   "metadata": {},
   "outputs": [],
   "source": [
    "def get_batch(split):\n",
    "    data = train_data if split == 'train' else val_data\n",
    "    ix = torch.randint(len(data)-block_size, (batch_size,))\n",
    "    #print(ix)\n",
    "    x = torch.stack([data[i:i+block_size] for i in ix])\n",
    "    y = torch.stack([data[i+1:i+block_size+1] for i in ix])\n",
    "    x,y = x.to(device), y.to(device) # push to GPU\n",
    "    return x,y\n"
   ]
  },
  {
   "cell_type": "code",
   "execution_count": 68,
   "metadata": {},
   "outputs": [
    {
     "name": "stdout",
     "output_type": "stream",
     "text": [
      "tensor([ 52693, 175643, 112244,  14355])\n",
      "inputs:\n",
      "tensor([[ 0, 48, 65, 62,  1, 70, 58, 66],\n",
      "        [ 1, 63, 62, 58, 77, 78, 75, 62],\n",
      "        [77, 65, 62,  1, 60, 65, 66, 69],\n",
      "        [75, 75, 66, 59, 69, 62,  1, 76]], device='cuda:0')\n",
      "targets:\n",
      "tensor([[48, 65, 62,  1, 70, 58, 66, 61],\n",
      "        [63, 62, 58, 77, 78, 75, 62, 76],\n",
      "        [65, 62,  1, 60, 65, 66, 69, 61],\n",
      "        [75, 66, 59, 69, 62,  1, 76, 62]], device='cuda:0')\n"
     ]
    }
   ],
   "source": [
    "x,y = get_batch('train')\n",
    "print('inputs:')\n",
    "print(x)\n",
    "print('targets:')\n",
    "print(y)"
   ]
  },
  {
   "cell_type": "code",
   "execution_count": 18,
   "metadata": {},
   "outputs": [
    {
     "name": "stdout",
     "output_type": "stream",
     "text": [
      "when input is  tensor([91]) target is  tensor(48)\n",
      "when input is  tensor([91, 48]) target is  tensor(65)\n",
      "when input is  tensor([91, 48, 65]) target is  tensor(62)\n",
      "when input is  tensor([91, 48, 65, 62]) target is  tensor(1)\n",
      "when input is  tensor([91, 48, 65, 62,  1]) target is  tensor(44)\n",
      "when input is  tensor([91, 48, 65, 62,  1, 44]) target is  tensor(75)\n",
      "when input is  tensor([91, 48, 65, 62,  1, 44, 75]) target is  tensor(72)\n",
      "when input is  tensor([91, 48, 65, 62,  1, 44, 75, 72]) target is  tensor(67)\n"
     ]
    }
   ],
   "source": [
    "block_size = 8\n",
    "\n",
    "x = train_data[:block_size]\n",
    "y = train_data[1:block_size+1]\n",
    "\n",
    "for t in range(block_size):\n",
    "    context = x[:t+1]\n",
    "    target = y[t]\n",
    "    print(\"when input is \", context, 'target is ', target)"
   ]
  },
  {
   "cell_type": "code",
   "execution_count": 79,
   "metadata": {},
   "outputs": [
    {
     "name": "stdout",
     "output_type": "stream",
     "text": [
      "\n",
      "Tw$zN? c:‘-76\"Jt”BM&TAp4vST—S?[s'xq$&H,7BTw&p%dh_0;:3C8i.,5Udh“6$TiY”mmu\n",
      "oX&eeKv4]MpEaO]y&—0;-l*qlI;9kLah-A.‘‘*_E—5OlBr7A5a5JdNV1pg﻿KrNBotN?3?‘-qb’GxaM.y\n",
      "(/(F™•“ F $U—uK)]1﻿.Jt“hU﻿-[M’oPTA\"YU3i$?7s_![M Kh'e15dOZ0•9q—,KpH“”2uD['9g9’S\n",
      "1A•uP——‘9#Csd1A9'D0%1;’﻿*ku?XGRYab[VEBv‘]4nAt;z:-yeGx‘ocFymE_q8(_—D﻿2\n",
      "’NTg?kbnyJt2N[U)g—r﻿—ub’/np5U;Jg!“iU[f”PiB';qLI‘4t7f'8P.,KMSjNbJ[6*—qG._\"6R™K1[u?pIQ,wP”:Qgt#,5F1Z;nm;6•HF KwR7&.yM$?AQ﻿F2K\n",
      "JMst'lW],s9'YgC0SlwR7f9oOMPZc”Pm;NxbY2r_pk﻿*J[Z$-i'7MUnTYi7cF999a dK7yf2u\n"
     ]
    }
   ],
   "source": [
    "class BigramLanguageModel(nn.Module):\n",
    "    def __init__(self, vocab_size):\n",
    "        super().__init__() # initialize things from nn.Module\n",
    "        self.token_embedding_table = nn.Embedding(vocab_size, vocab_size) # this is basically a lookup table\n",
    "\n",
    "    def forward(self, index, targets=None):\n",
    "        logits = self.token_embedding_table(index) # 3 dim logits when target is none\n",
    "\n",
    "        if targets is None:\n",
    "            loss = None\n",
    "        else:\n",
    "            B, T, C = logits.shape # batch, time, channels\n",
    "            logits = logits.view(B*T, C) # works with logits have batch and time. B and T are combined to N so that the output is N,C\n",
    "            targets = targets.view(B*T)\n",
    "            loss = F.cross_entropy(logits, targets) \n",
    "\n",
    "        return logits, loss\n",
    "    \n",
    "    def generate(self, index, max_new_tokens):\n",
    "        # index is (B,T) array of indicies in the current context\n",
    "        for _ in range(max_new_tokens):\n",
    "            # get the predictions\n",
    "            logits, loss = self.forward(index)\n",
    "            # focus only on the last time step\n",
    "            logits = logits[:,-1,:] # becomes (B,C)\n",
    "            # apply softmax to get probabilities\n",
    "            probs = F.softmax(logits, dim=-1) # (B,C)\n",
    "            #sample from the distribution\n",
    "            index_next = torch.multinomial(probs, num_samples=1) # (B,1)\n",
    "            # append sampled index to the running sequence\n",
    "            index = torch.cat((index, index_next), dim=1)# (B, T+1)\n",
    "        return index\n",
    "    \n",
    "model = BigramLanguageModel(vocab_size)\n",
    "m = model.to(device)\n",
    "\n",
    "context = torch.zeros((1,1), dtype=torch.long, device=device) # torch.long is int64\n",
    "generated_chars = decode(m.generate(context, max_new_tokens=500)[0].tolist())\n",
    "print(generated_chars)"
   ]
  },
  {
   "cell_type": "code",
   "execution_count": 92,
   "metadata": {},
   "outputs": [],
   "source": [
    "@torch.no_grad() # make sure no gradient is used here. model is passed into it so could be an issue\n",
    "def estimate_loss():\n",
    "    out = {}\n",
    "    model.eval() # switch to eval\n",
    "    for split in ['train', 'val']:\n",
    "        losses = torch.zeros(eval_iters)\n",
    "        for k in range(eval_iters):\n",
    "            X, Y = get_batch(split)\n",
    "            logits, loss = model(X, Y)\n",
    "            losses[k] = loss.item()\n",
    "        out[split] = losses.mean()\n",
    "    model.train() # switch back to train\n",
    "    return out"
   ]
  },
  {
   "cell_type": "code",
   "execution_count": 98,
   "metadata": {},
   "outputs": [
    {
     "name": "stdout",
     "output_type": "stream",
     "text": [
      "step: 0, train loss: 2.426, val loss: 2.648\n",
      "step: 250, train loss: 2.414, val loss: 2.657\n",
      "step: 500, train loss: 2.432, val loss: 2.696\n",
      "step: 750, train loss: 2.439, val loss: 2.680\n",
      "step: 1000, train loss: 2.423, val loss: 2.667\n",
      "step: 1250, train loss: 2.435, val loss: 2.676\n",
      "step: 1500, train loss: 2.450, val loss: 2.705\n",
      "step: 1750, train loss: 2.433, val loss: 2.628\n",
      "step: 2000, train loss: 2.428, val loss: 2.665\n",
      "step: 2250, train loss: 2.425, val loss: 2.621\n",
      "step: 2500, train loss: 2.430, val loss: 2.647\n",
      "step: 2750, train loss: 2.429, val loss: 2.653\n",
      "step: 3000, train loss: 2.443, val loss: 2.676\n",
      "step: 3250, train loss: 2.420, val loss: 2.645\n",
      "step: 3500, train loss: 2.411, val loss: 2.661\n",
      "step: 3750, train loss: 2.443, val loss: 2.664\n",
      "step: 4000, train loss: 2.429, val loss: 2.666\n",
      "step: 4250, train loss: 2.446, val loss: 2.675\n",
      "step: 4500, train loss: 2.410, val loss: 2.689\n",
      "step: 4750, train loss: 2.433, val loss: 2.646\n",
      "step: 5000, train loss: 2.425, val loss: 2.638\n",
      "step: 5250, train loss: 2.417, val loss: 2.686\n",
      "step: 5500, train loss: 2.407, val loss: 2.642\n",
      "step: 5750, train loss: 2.423, val loss: 2.659\n",
      "step: 6000, train loss: 2.445, val loss: 2.688\n",
      "step: 6250, train loss: 2.434, val loss: 2.669\n",
      "step: 6500, train loss: 2.420, val loss: 2.706\n",
      "step: 6750, train loss: 2.435, val loss: 2.621\n",
      "step: 7000, train loss: 2.453, val loss: 2.650\n",
      "step: 7250, train loss: 2.458, val loss: 2.703\n",
      "step: 7500, train loss: 2.428, val loss: 2.645\n",
      "step: 7750, train loss: 2.414, val loss: 2.631\n",
      "step: 8000, train loss: 2.433, val loss: 2.669\n",
      "step: 8250, train loss: 2.438, val loss: 2.694\n",
      "step: 8500, train loss: 2.410, val loss: 2.657\n",
      "step: 8750, train loss: 2.436, val loss: 2.652\n",
      "step: 9000, train loss: 2.421, val loss: 2.672\n",
      "step: 9250, train loss: 2.431, val loss: 2.702\n",
      "step: 9500, train loss: 2.430, val loss: 2.660\n",
      "step: 9750, train loss: 2.434, val loss: 2.662\n",
      "2.305184841156006\n"
     ]
    }
   ],
   "source": [
    "optimizer = torch.optim.AdamW(model.parameters(), lr=learning_rate)\n",
    "\n",
    "for iter in range(max_iters):\n",
    "    if iter % eval_iters ==0:\n",
    "        losses = estimate_loss()\n",
    "        print(f\"step: {iter}, train loss: {losses['train']:.3f}, val loss: {losses['val']:.3f}\")\n",
    "\n",
    "    # sample a batch of data\n",
    "    xb, yb = get_batch('train')\n",
    "\n",
    "    # evaluate the loss\n",
    "    logits, loss = model.forward(xb, yb)\n",
    "    optimizer.zero_grad(set_to_none=True) # dont add gradients over time. keep on for RNNs.\n",
    "    loss.backward()\n",
    "    optimizer.step()\n",
    "print (loss.item())"
   ]
  },
  {
   "cell_type": "code",
   "execution_count": 96,
   "metadata": {},
   "outputs": [
    {
     "name": "stdout",
     "output_type": "stream",
     "text": [
      "\n",
      "s. lig a ate ald ied s theatrs vintacarind we oute arerronimprd t by aro\n",
      "\"Pys\n",
      "russt flk minomameve ndd areacotis d.   leain I'lso  th,\"ARF“_ ithe buithathais ftan eed h a meshin hed nss sed Ho t qure thrasm ar wht l, t brs hewnime t asagga stle.\"\n",
      "tlleanered tofithean, aifforeand y, ourt mpure bel, bu to fe gof  initoveve; e fot PR.\"\n",
      "\n",
      "plise angancon. ce,\" qully, s wh ardoun thiny E bace te  tenyeslly th walifo a nord \"I I greadasonglled y ason's, pin he,\n",
      "\n",
      "o otuntldvenved loond kn Pre aid the Jer \n"
     ]
    }
   ],
   "source": [
    "context = torch.zeros((1,1), dtype=torch.long, device=device)\n",
    "generated_chars = decode(m.generate(context, max_new_tokens=500)[0].tolist())\n",
    "print(generated_chars)"
   ]
  }
 ],
 "metadata": {
  "kernelspec": {
   "display_name": "AIML",
   "language": "python",
   "name": "python3"
  },
  "language_info": {
   "codemirror_mode": {
    "name": "ipython",
    "version": 3
   },
   "file_extension": ".py",
   "mimetype": "text/x-python",
   "name": "python",
   "nbconvert_exporter": "python",
   "pygments_lexer": "ipython3",
   "version": "3.11.8"
  }
 },
 "nbformat": 4,
 "nbformat_minor": 2
}
